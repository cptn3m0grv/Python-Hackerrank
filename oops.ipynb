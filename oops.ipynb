{
 "cells": [
  {
   "cell_type": "code",
   "execution_count": null,
   "metadata": {},
   "outputs": [],
   "source": [
    "# Question 1 and 2\n",
    "class Employee:\n",
    "    def __init__(self, firstName, lastName, pay):\n",
    "        self.firstName = firstName\n",
    "        self.lastName = lastName\n",
    "        self.pay = pay\n",
    "        self.email = self.firstName+'.'+self.lastName+'@company.com'\n",
    "        \n",
    "    def getEmail(self):\n",
    "        return self.email\n",
    "    \n",
    "    def getFullName(self):\n",
    "        return self.firstName+\" \"+self.lastName\n",
    "    \n",
    "    def getPay(self):\n",
    "        return self.pay\n",
    "        \n",
    "e1 = Employee(\"Mohandas\", \"Gandhi\", 50000)\n",
    "print(\"email: {}\\nFullName: {}\\nPay: {}\".format(e1.getEmail(), e1.getFullName(), e1.getPay()))"
   ]
  },
  {
   "cell_type": "code",
   "execution_count": 2,
   "metadata": {},
   "outputs": [
    {
     "name": "stdout",
     "output_type": "stream",
     "text": [
      "-1000\n"
     ]
    }
   ],
   "source": [
    "# Question3\n",
    "class Account:\n",
    "    \n",
    "    def __init__(self, initial_amount):\n",
    "        self.__balance = initial_amount\n",
    "        \n",
    "    def withdraw(self, amount):\n",
    "        self.__balance = self.__balance - amount\n",
    "        \n",
    "    def deposit(self, amount):\n",
    "        self.__balance = self.__balance + amount\n",
    "        \n",
    "ac = Account(100)\n",
    "ac.__balance_ll = -1000\n",
    "print(ac.__balance_ll)"
   ]
  },
  {
   "cell_type": "code",
   "execution_count": null,
   "metadata": {},
   "outputs": [],
   "source": [
    "# Question4\n",
    "class Dog:\n",
    "    tricks = []\n",
    "    def __init__(self, name):\n",
    "        self.name = name\n",
    "        \n",
    "    def add_trick(self, trick):\n",
    "#         self.tricks = list()\n",
    "        self.tricks.append([trick, self.name])\n",
    "        \n",
    "#     def trick(self):\n",
    "#         for i in range(len(self.tricks)):\n",
    "#             print(self.tricks[i])\n",
    "        \n",
    "f = Dog('Fido')\n",
    "b = Dog('Buddy')\n",
    "f.add_trick('roll over')\n",
    "b.add_trick('play dead')\n",
    "# f.trick()\n",
    "# b.trick()\n",
    "print(f.tricks)\n",
    "    \n",
    "for i in b.tricks:\n",
    "    print(i)"
   ]
  },
  {
   "cell_type": "code",
   "execution_count": null,
   "metadata": {},
   "outputs": [],
   "source": [
    "# Question5\n",
    "class Employee:\n",
    "    @classmethod\n",
    "    def from_string(cls, emp_str):\n",
    "        l = emp_str.split('-')\n",
    "        cls.firstname = l[0]\n",
    "        cls.lastname = l[1]\n",
    "        cls.pay = l[2]\n",
    "        print('{} {} {}'.format(cls.firstname, cls.lastname, cls.pay))\n",
    "        \n",
    "#     def __init__(self, first, last, pay):\n",
    "#         self.firstname = first\n",
    "#         self.lastname = last\n",
    "#         self.pay = pay\n",
    "        \n",
    "    \n",
    "emp_1_str = 'John-Abraham-50000'\n",
    "emp_1 = Employee.from_string(emp_1_str)"
   ]
  },
  {
   "cell_type": "code",
   "execution_count": null,
   "metadata": {},
   "outputs": [],
   "source": [
    "# Question6\n",
    "\n",
    "class Store:\n",
    "    __item_count = 100\n",
    "    \n",
    "    @classmethod\n",
    "    def addItem(cls, count):\n",
    "        cls.__item_count += count\n",
    "    \n",
    "    @classmethod\n",
    "    def issueItem(cls, count):\n",
    "        cls.__item_count -= count\n",
    "        \n",
    "    @classmethod\n",
    "    def getItemCount(cls):\n",
    "        return cls.__item_count\n",
    "        "
   ]
  },
  {
   "cell_type": "code",
   "execution_count": null,
   "metadata": {},
   "outputs": [],
   "source": [
    "Counter1 = Store()\n",
    "Counter2 = Store()\n",
    "Counter1.addItem(2)\n",
    "print(Store.getItemCount())\n",
    "Counter2.issueItem(3)\n",
    "print(Store.getItemCount())"
   ]
  },
  {
   "cell_type": "code",
   "execution_count": null,
   "metadata": {},
   "outputs": [],
   "source": []
  }
 ],
 "metadata": {
  "kernelspec": {
   "display_name": "Python 3",
   "language": "python",
   "name": "python3"
  },
  "language_info": {
   "codemirror_mode": {
    "name": "ipython",
    "version": 3
   },
   "file_extension": ".py",
   "mimetype": "text/x-python",
   "name": "python",
   "nbconvert_exporter": "python",
   "pygments_lexer": "ipython3",
   "version": "3.8.3"
  }
 },
 "nbformat": 4,
 "nbformat_minor": 4
}
